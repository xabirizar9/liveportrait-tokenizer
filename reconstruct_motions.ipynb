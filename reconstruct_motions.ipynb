{
 "cells": [
  {
   "cell_type": "code",
   "execution_count": 1,
   "metadata": {},
   "outputs": [],
   "source": [
    "%load_ext autoreload\n",
    "%autoreload 2"
   ]
  },
  {
   "cell_type": "code",
   "execution_count": 2,
   "metadata": {},
   "outputs": [],
   "source": [
    "import torch\n",
    "from pathlib import Path\n",
    "import os\n",
    "from random import seed\n",
    "import pickle\n",
    "import yaml\n",
    "\n",
    "from src.modules.vqvae import VQVae\n",
    "from src.dataset import Dataset"
   ]
  },
  {
   "cell_type": "code",
   "execution_count": 3,
   "metadata": {},
   "outputs": [],
   "source": [
    "pickle_dir = Path(\"dataset/pickles\")"
   ]
  },
  {
   "cell_type": "code",
   "execution_count": 4,
   "metadata": {},
   "outputs": [],
   "source": [
    "# Load yaml config\n",
    "config = yaml.safe_load(open(\"configs/default.yaml\", \"r\"))"
   ]
  },
  {
   "cell_type": "code",
   "execution_count": 5,
   "metadata": {},
   "outputs": [
    {
     "data": {
      "text/plain": [
       "VQVae(\n",
       "  (encoder): Encoder(\n",
       "    (branch1): Sequential(\n",
       "      (0): Conv1d(202, 512, kernel_size=(3,), stride=(1,), padding=(1,))\n",
       "      (1): ReLU()\n",
       "      (2): Sequential(\n",
       "        (0): Conv1d(512, 512, kernel_size=(4,), stride=(2,), padding=(1,))\n",
       "        (1): Resnet1D(\n",
       "          (model): Sequential(\n",
       "            (0): ResConv1DBlock(\n",
       "              (norm1): Identity()\n",
       "              (norm2): Identity()\n",
       "              (activation1): ReLU()\n",
       "              (activation2): ReLU()\n",
       "              (conv1): Conv1d(512, 512, kernel_size=(3,), stride=(1,), padding=(9,), dilation=(9,))\n",
       "              (conv2): Conv1d(512, 512, kernel_size=(1,), stride=(1,))\n",
       "            )\n",
       "            (1): ResConv1DBlock(\n",
       "              (norm1): Identity()\n",
       "              (norm2): Identity()\n",
       "              (activation1): ReLU()\n",
       "              (activation2): ReLU()\n",
       "              (conv1): Conv1d(512, 512, kernel_size=(3,), stride=(1,), padding=(3,), dilation=(3,))\n",
       "              (conv2): Conv1d(512, 512, kernel_size=(1,), stride=(1,))\n",
       "            )\n",
       "            (2): ResConv1DBlock(\n",
       "              (norm1): Identity()\n",
       "              (norm2): Identity()\n",
       "              (activation1): ReLU()\n",
       "              (activation2): ReLU()\n",
       "              (conv1): Conv1d(512, 512, kernel_size=(3,), stride=(1,), padding=(1,))\n",
       "              (conv2): Conv1d(512, 512, kernel_size=(1,), stride=(1,))\n",
       "            )\n",
       "          )\n",
       "        )\n",
       "      )\n",
       "      (3): Sequential(\n",
       "        (0): Conv1d(512, 512, kernel_size=(4,), stride=(2,), padding=(1,))\n",
       "        (1): Resnet1D(\n",
       "          (model): Sequential(\n",
       "            (0): ResConv1DBlock(\n",
       "              (norm1): Identity()\n",
       "              (norm2): Identity()\n",
       "              (activation1): ReLU()\n",
       "              (activation2): ReLU()\n",
       "              (conv1): Conv1d(512, 512, kernel_size=(3,), stride=(1,), padding=(9,), dilation=(9,))\n",
       "              (conv2): Conv1d(512, 512, kernel_size=(1,), stride=(1,))\n",
       "            )\n",
       "            (1): ResConv1DBlock(\n",
       "              (norm1): Identity()\n",
       "              (norm2): Identity()\n",
       "              (activation1): ReLU()\n",
       "              (activation2): ReLU()\n",
       "              (conv1): Conv1d(512, 512, kernel_size=(3,), stride=(1,), padding=(3,), dilation=(3,))\n",
       "              (conv2): Conv1d(512, 512, kernel_size=(1,), stride=(1,))\n",
       "            )\n",
       "            (2): ResConv1DBlock(\n",
       "              (norm1): Identity()\n",
       "              (norm2): Identity()\n",
       "              (activation1): ReLU()\n",
       "              (activation2): ReLU()\n",
       "              (conv1): Conv1d(512, 512, kernel_size=(3,), stride=(1,), padding=(1,))\n",
       "              (conv2): Conv1d(512, 512, kernel_size=(1,), stride=(1,))\n",
       "            )\n",
       "          )\n",
       "        )\n",
       "      )\n",
       "      (4): Conv1d(512, 512, kernel_size=(3,), stride=(1,), padding=(1,))\n",
       "    )\n",
       "  )\n",
       "  (decoder): Decoder(\n",
       "    (branch1): Sequential(\n",
       "      (0): Conv1d(512, 512, kernel_size=(3,), stride=(1,), padding=(1,))\n",
       "      (1): ReLU()\n",
       "      (2): Sequential(\n",
       "        (0): Resnet1D(\n",
       "          (model): Sequential(\n",
       "            (0): ResConv1DBlock(\n",
       "              (norm1): Identity()\n",
       "              (norm2): Identity()\n",
       "              (activation1): ReLU()\n",
       "              (activation2): ReLU()\n",
       "              (conv1): Conv1d(512, 512, kernel_size=(3,), stride=(1,), padding=(9,), dilation=(9,))\n",
       "              (conv2): Conv1d(512, 512, kernel_size=(1,), stride=(1,))\n",
       "            )\n",
       "            (1): ResConv1DBlock(\n",
       "              (norm1): Identity()\n",
       "              (norm2): Identity()\n",
       "              (activation1): ReLU()\n",
       "              (activation2): ReLU()\n",
       "              (conv1): Conv1d(512, 512, kernel_size=(3,), stride=(1,), padding=(3,), dilation=(3,))\n",
       "              (conv2): Conv1d(512, 512, kernel_size=(1,), stride=(1,))\n",
       "            )\n",
       "            (2): ResConv1DBlock(\n",
       "              (norm1): Identity()\n",
       "              (norm2): Identity()\n",
       "              (activation1): ReLU()\n",
       "              (activation2): ReLU()\n",
       "              (conv1): Conv1d(512, 512, kernel_size=(3,), stride=(1,), padding=(1,))\n",
       "              (conv2): Conv1d(512, 512, kernel_size=(1,), stride=(1,))\n",
       "            )\n",
       "          )\n",
       "        )\n",
       "        (1): Upsample(scale_factor=2.0, mode='nearest')\n",
       "        (2): Conv1d(512, 512, kernel_size=(3,), stride=(1,), padding=(1,))\n",
       "      )\n",
       "      (3): Sequential(\n",
       "        (0): Resnet1D(\n",
       "          (model): Sequential(\n",
       "            (0): ResConv1DBlock(\n",
       "              (norm1): Identity()\n",
       "              (norm2): Identity()\n",
       "              (activation1): ReLU()\n",
       "              (activation2): ReLU()\n",
       "              (conv1): Conv1d(512, 512, kernel_size=(3,), stride=(1,), padding=(9,), dilation=(9,))\n",
       "              (conv2): Conv1d(512, 512, kernel_size=(1,), stride=(1,))\n",
       "            )\n",
       "            (1): ResConv1DBlock(\n",
       "              (norm1): Identity()\n",
       "              (norm2): Identity()\n",
       "              (activation1): ReLU()\n",
       "              (activation2): ReLU()\n",
       "              (conv1): Conv1d(512, 512, kernel_size=(3,), stride=(1,), padding=(3,), dilation=(3,))\n",
       "              (conv2): Conv1d(512, 512, kernel_size=(1,), stride=(1,))\n",
       "            )\n",
       "            (2): ResConv1DBlock(\n",
       "              (norm1): Identity()\n",
       "              (norm2): Identity()\n",
       "              (activation1): ReLU()\n",
       "              (activation2): ReLU()\n",
       "              (conv1): Conv1d(512, 512, kernel_size=(3,), stride=(1,), padding=(1,))\n",
       "              (conv2): Conv1d(512, 512, kernel_size=(1,), stride=(1,))\n",
       "            )\n",
       "          )\n",
       "        )\n",
       "        (1): Upsample(scale_factor=2.0, mode='nearest')\n",
       "        (2): Conv1d(512, 512, kernel_size=(3,), stride=(1,), padding=(1,))\n",
       "      )\n",
       "      (4): Conv1d(512, 512, kernel_size=(3,), stride=(1,), padding=(1,))\n",
       "      (5): ReLU()\n",
       "      (6): Conv1d(512, 202, kernel_size=(3,), stride=(1,), padding=(1,))\n",
       "    )\n",
       "  )\n",
       "  (quantizer): QuantizeEMAReset()\n",
       ")"
      ]
     },
     "execution_count": 5,
     "metadata": {},
     "output_type": "execute_result"
    }
   ],
   "source": [
    "vqvae = VQVae(**config[\"vqvae\"])\n",
    "\n",
    "pretrained = torch.load(Path(\"models/vqvae-train-full-feats-lr1e-4-bs64-e300-t512-d512_final_20250509_210032.pth\"))\n",
    "vqvae.load_state_dict(pretrained)\n",
    "vqvae.to(\"cuda\")\n",
    "vqvae.eval()"
   ]
  },
  {
   "cell_type": "code",
   "execution_count": 6,
   "metadata": {},
   "outputs": [
    {
     "name": "stdout",
     "output_type": "stream",
     "text": [
      "Loading precomputed statistics from dataset/stats_all.pkl\n",
      "Loaded feature-wise statistics successfully\n",
      "Loaded 650 eval samples\n"
     ]
    }
   ],
   "source": [
    "ds = Dataset(\"dataset\", split=\"eval\", compute_stats=False)"
   ]
  },
  {
   "cell_type": "markdown",
   "metadata": {},
   "source": [
    "### Prepare ds item"
   ]
  },
  {
   "cell_type": "code",
   "execution_count": 7,
   "metadata": {},
   "outputs": [],
   "source": [
    "sample = ds[1]"
   ]
  },
  {
   "cell_type": "code",
   "execution_count": 8,
   "metadata": {},
   "outputs": [],
   "source": [
    "pickle_path = sample['metadata']['pickle_path']"
   ]
  },
  {
   "cell_type": "code",
   "execution_count": 13,
   "metadata": {},
   "outputs": [],
   "source": [
    "frames = sample['kp'].shape[0]\n",
    "\n",
    "seq_len = min(sample['kp'].shape[0], 300)\n",
    "\n",
    "kps = sample['kp'][:seq_len].reshape(1, seq_len, -1)\n",
    "exps = sample['exp'][:seq_len].reshape(1, seq_len, -1)\n",
    "x_s = sample['x_s'][:seq_len].reshape(1, seq_len, -1)\n",
    "t = sample['t'][:seq_len].reshape(1, seq_len, -1)\n",
    "R = sample['R'][:seq_len].reshape(1, seq_len, -1)\n",
    "scale = sample['scale'][:seq_len].reshape(1, seq_len, -1)\n",
    "features = torch.concat([kps, exps, x_s, t, R, scale], dim=2).to(\"cuda\")"
   ]
  },
  {
   "cell_type": "markdown",
   "metadata": {},
   "source": [
    "### Reconstruct feats"
   ]
  },
  {
   "cell_type": "code",
   "execution_count": 14,
   "metadata": {},
   "outputs": [],
   "source": [
    "# Load stats\n",
    "stats = pickle.load(open(\"dataset/stats_all.pkl\", \"rb\"))"
   ]
  },
  {
   "cell_type": "code",
   "execution_count": 15,
   "metadata": {},
   "outputs": [],
   "source": [
    "mean = stats['mean'].to(\"cuda\")\n",
    "std = stats['std'].to(\"cuda\")"
   ]
  },
  {
   "cell_type": "code",
   "execution_count": 16,
   "metadata": {},
   "outputs": [],
   "source": [
    "features = (features - mean) / std\n",
    "with torch.no_grad():\n",
    "    reconstr, commit_loss, perplexity = vqvae(features)\n",
    "reconstr = reconstr * std + mean"
   ]
  },
  {
   "cell_type": "markdown",
   "metadata": {},
   "source": [
    "### Generate reconstructed pickle"
   ]
  },
  {
   "cell_type": "code",
   "execution_count": 41,
   "metadata": {},
   "outputs": [],
   "source": [
    "# Prepare output\n",
    "def repackage_output(original, reconstr):\n",
    "    rec_kps = reconstr.squeeze(0)[:, :63]\n",
    "    rec_exps = reconstr.squeeze(0)[:, 63:126]\n",
    "    x_s = reconstr.squeeze(0)[:, 126:189]\n",
    "    t = reconstr.squeeze(0)[:, 189:192]\n",
    "    R = reconstr.squeeze(0)[:, 192:201]\n",
    "    scale = reconstr.squeeze(0)[:, 201]\n",
    "\n",
    "    output = {\n",
    "        \"n_frames\": original['metadata']['n_frames'],\n",
    "        \"output_fps\": original['metadata']['output_fps'],\n",
    "        \"motion\": [\n",
    "            {\n",
    "                \"kp\": rec_kps[i].reshape(1, 21, 3).cpu().numpy(),\n",
    "                \"exp\": rec_exps[i].reshape(1, 21, 3).cpu().numpy(),\n",
    "                \"x_s\": x_s[i].reshape(1, 21, 3).cpu().numpy(),\n",
    "                \"t\": t[i].reshape(1, 3).cpu().numpy(),\n",
    "                \"R\": R[i].reshape(1, 3, 3).cpu().numpy(),\n",
    "                \"scale\": scale[i].reshape(1, 1).cpu().numpy(),\n",
    "            } for i in range(len(rec_kps))\n",
    "        ],\n",
    "        \"c_eyes_lst\": [original['c_eyes_lst'][i].cpu().numpy() for i in range(len(original['c_eyes_lst']))],\n",
    "        \"c_lip_lst\": [original['c_lip_lst'][i].cpu().numpy() for i in range(len(original['c_lip_lst']))],\n",
    "    }\n",
    "    return output"
   ]
  },
  {
   "cell_type": "code",
   "execution_count": 42,
   "metadata": {},
   "outputs": [],
   "source": [
    "output = repackage_output(sample, reconstr)"
   ]
  },
  {
   "cell_type": "code",
   "execution_count": 43,
   "metadata": {},
   "outputs": [],
   "source": [
    "video_id = Path(pickle_path).stem\n",
    "new_path = pickle_dir / f\"{video_id}_reconstructed.pkl\"\n",
    "\n",
    "with open(new_path, \"wb\") as f:\n",
    "    pickle.dump(output, f)"
   ]
  },
  {
   "cell_type": "code",
   "execution_count": 23,
   "metadata": {},
   "outputs": [
    {
     "data": {
      "text/plain": [
       "PosixPath('dataset/pickles/F4ExnAr-QSE_0_reconstructed.pkl')"
      ]
     },
     "execution_count": 23,
     "metadata": {},
     "output_type": "execute_result"
    }
   ],
   "source": [
    "new_path"
   ]
  },
  {
   "cell_type": "code",
   "execution_count": null,
   "metadata": {},
   "outputs": [],
   "source": [
    "import imageio\n",
    "\n",
    "vid = imageio.get_reader(f\"dataset/train/{video_id}.mp4\")\n",
    "frame = vid.get_data(0)\n",
    "\n",
    "# save frame\n",
    "imageio.imwrite(\"assets/examples/source/reconstructed.png\", frame)"
   ]
  },
  {
   "cell_type": "code",
   "execution_count": 20,
   "metadata": {},
   "outputs": [],
   "source": [
    "stats = pickle.load(open(\"dataset/train/F4ExnAr-QSE_0.pkl\", \"rb\"))"
   ]
  },
  {
   "cell_type": "code",
   "execution_count": 40,
   "metadata": {},
   "outputs": [
    {
     "data": {
      "text/plain": [
       "(3, 3)"
      ]
     },
     "execution_count": 40,
     "metadata": {},
     "output_type": "execute_result"
    }
   ],
   "source": [
    "output['motion'][0]['R'].shape"
   ]
  },
  {
   "cell_type": "code",
   "execution_count": 38,
   "metadata": {},
   "outputs": [
    {
     "data": {
      "text/plain": [
       "(1, 3, 3)"
      ]
     },
     "execution_count": 38,
     "metadata": {},
     "output_type": "execute_result"
    }
   ],
   "source": [
    "stats['motion'][0]['R'].shape"
   ]
  }
 ],
 "metadata": {
  "kernelspec": {
   "display_name": ".venv",
   "language": "python",
   "name": "python3"
  },
  "language_info": {
   "codemirror_mode": {
    "name": "ipython",
    "version": 3
   },
   "file_extension": ".py",
   "mimetype": "text/x-python",
   "name": "python",
   "nbconvert_exporter": "python",
   "pygments_lexer": "ipython3",
   "version": "3.10.17"
  }
 },
 "nbformat": 4,
 "nbformat_minor": 2
}
