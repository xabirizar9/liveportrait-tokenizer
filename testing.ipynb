{
 "cells": [
  {
   "cell_type": "code",
   "execution_count": 1,
   "metadata": {},
   "outputs": [],
   "source": [
    "%load_ext autoreload\n",
    "%autoreload 2"
   ]
  },
  {
   "cell_type": "code",
   "execution_count": 2,
   "metadata": {},
   "outputs": [
    {
     "name": "stderr",
     "output_type": "stream",
     "text": [
      "/home/xabieririzar/liveportrait-tokenizer/.venv/lib/python3.10/site-packages/tqdm/auto.py:21: TqdmWarning: IProgress not found. Please update jupyter and ipywidgets. See https://ipywidgets.readthedocs.io/en/stable/user_install.html\n",
      "  from .autonotebook import tqdm as notebook_tqdm\n"
     ]
    }
   ],
   "source": [
    "import torch\n",
    "import tyro\n",
    "import numpy as np\n",
    "import imageio\n",
    "import cv2\n",
    "\n",
    "from src.modules.motion_extractor import MotionExtractor\n",
    "from src.modules.appearance_feature_extractor import AppearanceFeatureExtractor\n",
    "from src.live_portrait_wrapper import LivePortraitWrapper\n",
    "from src.modules.vqvae import VQVae\n",
    "from train_tokenizer import Dataset\n",
    "from IPython.display import Video, Image"
   ]
  },
  {
   "cell_type": "code",
   "execution_count": 3,
   "metadata": {},
   "outputs": [],
   "source": [
    "ckpt = torch.load(\"models/checkpoints/last.ckpt\")\n",
    "vqvae_params = {k[6:]: v for k, v in ckpt['state_dict'].items() if 'vqvae' in k}"
   ]
  },
  {
   "cell_type": "code",
   "execution_count": null,
   "metadata": {},
   "outputs": [],
   "source": [
    "vqvae = VQVae(\n",
    "    nfeats=72,\n",
    "    code_num=512,\n",
    "    code_dim=512,\n",
    "    output_emb_width=512,\n",
    "    down_t=3,\n",
    "    stride_t=2,\n",
    "    width=512,\n",
    "    depth=3,\n",
    "    dilation_growth_rate=3,\n",
    "    norm=None,\n",
    "    activation=\"relu\",\n",
    "    codebook_logger=None,\n",
    ").to('cuda')\n",
    "vqvae.load_state_dict(vqvae_params, strict=True)"
   ]
  },
  {
   "cell_type": "code",
   "execution_count": 4,
   "metadata": {},
   "outputs": [
    {
     "name": "stdout",
     "output_type": "stream",
     "text": [
      "\n"
     ]
    }
   ],
   "source": [
    "m_extr = MotionExtractor(\n",
    "    num_kp=21,\n",
    "    backbone='convnextv2_tiny'\n",
    ")\n",
    "m_extr.load_pretrained(init_path=\"pretrained_weights/liveportrait/base_models/motion_extractor.pth\")\n",
    "m_extr.to('cuda')\n",
    "m_extr.eval()\n",
    "print()"
   ]
  },
  {
   "cell_type": "code",
   "execution_count": null,
   "metadata": {},
   "outputs": [],
   "source": [
    "appearance_feature_extractor = AppearanceFeatureExtractor(\n",
    "    image_channel=3,\n",
    "    block_expansion=64,\n",
    "    num_down_blocks=2,\n",
    "    max_features=512,\n",
    "    reshape_channel=32,\n",
    "    reshape_depth=16,\n",
    "    num_resblocks=6\n",
    ")\n",
    "appearance_feature_extractor.load_state_dict(\n",
    "    torch.load(\"pretrained_weights/liveportrait/base_models/appearance_feature_extractor.pth\")\n",
    ")\n",
    "appearance_feature_extractor.to('cuda')\n",
    "appearance_feature_extractor.eval()\n",
    "print()"
   ]
  },
  {
   "cell_type": "markdown",
   "metadata": {},
   "source": [
    "### Load source image"
   ]
  },
  {
   "cell_type": "code",
   "execution_count": 6,
   "metadata": {},
   "outputs": [],
   "source": [
    "from src.utils.io import load_image_rgb, resize_to_limit\n",
    "\n",
    "img = load_image_rgb(\"mark.png\")\n",
    "img = resize_to_limit(img, 1280, 2)"
   ]
  },
  {
   "cell_type": "markdown",
   "metadata": {},
   "source": [
    "### Load driving video"
   ]
  },
  {
   "cell_type": "code",
   "execution_count": 8,
   "metadata": {},
   "outputs": [],
   "source": [
    "ds = Dataset(data_path=\"dataset\")"
   ]
  },
  {
   "cell_type": "code",
   "execution_count": 10,
   "metadata": {},
   "outputs": [],
   "source": [
    "def resize_to_limit(img: np.ndarray, max_dim=1920, division=2):\n",
    "    \"\"\"\n",
    "    ajust the size of the image so that the maximum dimension does not exceed max_dim, and the width and the height of the image are multiples of n.\n",
    "    :param img: the image to be processed.\n",
    "    :param max_dim: the maximum dimension constraint.\n",
    "    :param n: the number that needs to be multiples of.\n",
    "    :return: the adjusted image.\n",
    "    \"\"\"\n",
    "    h, w = img.shape[:2]\n",
    "\n",
    "    # ajust the size of the image according to the maximum dimension\n",
    "    if max_dim > 0 and max(h, w) > max_dim:\n",
    "        if h > w:\n",
    "            new_h = max_dim\n",
    "            new_w = int(w * (max_dim / h))\n",
    "        else:\n",
    "            new_w = max_dim\n",
    "            new_h = int(h * (max_dim / w))\n",
    "        img = cv2.resize(img, (new_w, new_h))\n",
    "\n",
    "    # ensure that the image dimensions are multiples of n\n",
    "    division = max(division, 1)\n",
    "    new_h = img.shape[0] - (img.shape[0] % division)\n",
    "    new_w = img.shape[1] - (img.shape[1] % division)\n",
    "\n",
    "    if new_h == 0 or new_w == 0:\n",
    "        # when the width or height is less than n, no need to process\n",
    "        return img\n",
    "\n",
    "    if new_h != img.shape[0] or new_w != img.shape[1]:\n",
    "        img = img[:new_h, :new_w]\n",
    "\n",
    "    return img"
   ]
  },
  {
   "cell_type": "code",
   "execution_count": 9,
   "metadata": {},
   "outputs": [
    {
     "data": {
      "text/plain": [
       "(tensor([[[[[0.0863, 0.0863, 0.0863,  ..., 0.0784, 0.0784, 0.0784],\n",
       "            [0.0863, 0.0863, 0.0863,  ..., 0.0784, 0.0784, 0.0784],\n",
       "            [0.0863, 0.0863, 0.0863,  ..., 0.0784, 0.0784, 0.0784],\n",
       "            ...,\n",
       "            [0.6824, 0.6824, 0.6824,  ..., 0.5961, 0.6039, 0.5686],\n",
       "            [0.6824, 0.6824, 0.6824,  ..., 0.5686, 0.5647, 0.5608],\n",
       "            [0.6824, 0.6824, 0.6824,  ..., 0.5608, 0.5373, 0.5608]],\n",
       " \n",
       "           [[0.0902, 0.0902, 0.0902,  ..., 0.0941, 0.0941, 0.0941],\n",
       "            [0.0902, 0.0902, 0.0902,  ..., 0.0941, 0.0941, 0.0941],\n",
       "            [0.0902, 0.0902, 0.0902,  ..., 0.0941, 0.0941, 0.0941],\n",
       "            ...,\n",
       "            [0.6745, 0.6745, 0.6745,  ..., 0.5961, 0.6039, 0.5686],\n",
       "            [0.6745, 0.6745, 0.6745,  ..., 0.5686, 0.5725, 0.5686],\n",
       "            [0.6745, 0.6745, 0.6745,  ..., 0.5608, 0.5451, 0.5686]],\n",
       " \n",
       "           [[0.1020, 0.1020, 0.1020,  ..., 0.1098, 0.1098, 0.1098],\n",
       "            [0.1020, 0.1020, 0.1020,  ..., 0.1098, 0.1098, 0.1098],\n",
       "            [0.1020, 0.1020, 0.1020,  ..., 0.1098, 0.1098, 0.1098],\n",
       "            ...,\n",
       "            [0.6667, 0.6667, 0.6667,  ..., 0.5765, 0.5843, 0.5490],\n",
       "            [0.6667, 0.6667, 0.6667,  ..., 0.5490, 0.5608, 0.5569],\n",
       "            [0.6667, 0.6667, 0.6667,  ..., 0.5412, 0.5333, 0.5569]]]],\n",
       " \n",
       " \n",
       " \n",
       "         [[[[0.0863, 0.0863, 0.0863,  ..., 0.0824, 0.0824, 0.0824],\n",
       "            [0.0863, 0.0863, 0.0863,  ..., 0.0824, 0.0824, 0.0824],\n",
       "            [0.0863, 0.0863, 0.0863,  ..., 0.0824, 0.0824, 0.0824],\n",
       "            ...,\n",
       "            [0.6824, 0.6824, 0.6824,  ..., 0.6118, 0.6157, 0.5882],\n",
       "            [0.6824, 0.6824, 0.6824,  ..., 0.5922, 0.6118, 0.5765],\n",
       "            [0.6824, 0.6824, 0.6824,  ..., 0.5647, 0.5765, 0.5765]],\n",
       " \n",
       "           [[0.0902, 0.0902, 0.0902,  ..., 0.0980, 0.0980, 0.0980],\n",
       "            [0.0902, 0.0902, 0.0902,  ..., 0.0980, 0.0980, 0.0980],\n",
       "            [0.0902, 0.0902, 0.0902,  ..., 0.0980, 0.0980, 0.0980],\n",
       "            ...,\n",
       "            [0.6745, 0.6745, 0.6745,  ..., 0.6118, 0.6157, 0.5882],\n",
       "            [0.6745, 0.6745, 0.6745,  ..., 0.5922, 0.6118, 0.5765],\n",
       "            [0.6745, 0.6745, 0.6745,  ..., 0.5647, 0.5765, 0.5765]],\n",
       " \n",
       "           [[0.1020, 0.1020, 0.1020,  ..., 0.1137, 0.1137, 0.1137],\n",
       "            [0.1020, 0.1020, 0.1020,  ..., 0.1137, 0.1137, 0.1137],\n",
       "            [0.1020, 0.1020, 0.1020,  ..., 0.1137, 0.1137, 0.1137],\n",
       "            ...,\n",
       "            [0.6667, 0.6667, 0.6667,  ..., 0.5922, 0.5961, 0.5686],\n",
       "            [0.6667, 0.6667, 0.6667,  ..., 0.5725, 0.6000, 0.5647],\n",
       "            [0.6667, 0.6667, 0.6667,  ..., 0.5451, 0.5647, 0.5647]]]],\n",
       " \n",
       " \n",
       " \n",
       "         [[[[0.0824, 0.0824, 0.0824,  ..., 0.0824, 0.0824, 0.0824],\n",
       "            [0.0824, 0.0824, 0.0824,  ..., 0.0824, 0.0824, 0.0824],\n",
       "            [0.0824, 0.0824, 0.0824,  ..., 0.0824, 0.0824, 0.0824],\n",
       "            ...,\n",
       "            [0.7059, 0.7059, 0.7059,  ..., 0.6235, 0.6314, 0.6235],\n",
       "            [0.7059, 0.7059, 0.7059,  ..., 0.5961, 0.6039, 0.6157],\n",
       "            [0.7059, 0.7059, 0.7059,  ..., 0.5922, 0.5882, 0.6000]],\n",
       " \n",
       "           [[0.0863, 0.0863, 0.0863,  ..., 0.0980, 0.0980, 0.0980],\n",
       "            [0.0863, 0.0863, 0.0863,  ..., 0.0980, 0.0980, 0.0980],\n",
       "            [0.0863, 0.0863, 0.0863,  ..., 0.0980, 0.0980, 0.0980],\n",
       "            ...,\n",
       "            [0.6824, 0.6824, 0.6824,  ..., 0.6196, 0.6314, 0.6235],\n",
       "            [0.6824, 0.6824, 0.6824,  ..., 0.5882, 0.6039, 0.6157],\n",
       "            [0.6824, 0.6824, 0.6824,  ..., 0.5843, 0.5882, 0.6000]],\n",
       " \n",
       "           [[0.0980, 0.0980, 0.0980,  ..., 0.1137, 0.1137, 0.1137],\n",
       "            [0.0980, 0.0980, 0.0980,  ..., 0.1137, 0.1137, 0.1137],\n",
       "            [0.0980, 0.0980, 0.0980,  ..., 0.1137, 0.1137, 0.1137],\n",
       "            ...,\n",
       "            [0.6549, 0.6549, 0.6549,  ..., 0.5922, 0.6118, 0.6039],\n",
       "            [0.6549, 0.6549, 0.6549,  ..., 0.5725, 0.5843, 0.5961],\n",
       "            [0.6549, 0.6549, 0.6549,  ..., 0.5686, 0.5686, 0.5804]]]],\n",
       " \n",
       " \n",
       " \n",
       "         ...,\n",
       " \n",
       " \n",
       " \n",
       "         [[[[0.3490, 0.3490, 0.3412,  ..., 0.3569, 0.3647, 0.3725],\n",
       "            [0.3490, 0.3490, 0.3412,  ..., 0.3647, 0.3725, 0.3765],\n",
       "            [0.3529, 0.3529, 0.3490,  ..., 0.3882, 0.3922, 0.3961],\n",
       "            ...,\n",
       "            [0.9686, 0.9529, 0.9843,  ..., 0.6549, 0.6471, 0.6157],\n",
       "            [0.9922, 0.9569, 0.9451,  ..., 0.6588, 0.6510, 0.6196],\n",
       "            [0.9686, 0.8980, 0.8980,  ..., 0.6588, 0.6549, 0.6235]],\n",
       " \n",
       "           [[0.2863, 0.2863, 0.2784,  ..., 0.2745, 0.2745, 0.2824],\n",
       "            [0.2863, 0.2863, 0.2784,  ..., 0.2824, 0.2824, 0.2863],\n",
       "            [0.2902, 0.2902, 0.2863,  ..., 0.2863, 0.2824, 0.2863],\n",
       "            ...,\n",
       "            [0.9804, 0.9647, 0.9961,  ..., 0.6078, 0.6078, 0.5765],\n",
       "            [1.0000, 0.9882, 0.9765,  ..., 0.6118, 0.6118, 0.5804],\n",
       "            [1.0000, 0.9294, 0.9294,  ..., 0.6118, 0.6157, 0.5843]],\n",
       " \n",
       "           [[0.2627, 0.2627, 0.2549,  ..., 0.2314, 0.2314, 0.2392],\n",
       "            [0.2627, 0.2627, 0.2549,  ..., 0.2392, 0.2392, 0.2431],\n",
       "            [0.2667, 0.2667, 0.2627,  ..., 0.2471, 0.2392, 0.2431],\n",
       "            ...,\n",
       "            [0.9490, 0.9333, 0.9647,  ..., 0.5608, 0.5608, 0.5294],\n",
       "            [0.9843, 0.9490, 0.9373,  ..., 0.5647, 0.5647, 0.5333],\n",
       "            [0.9608, 0.8902, 0.8902,  ..., 0.5647, 0.5686, 0.5373]]]],\n",
       " \n",
       " \n",
       " \n",
       "         [[[[0.6431, 0.6431, 0.6431,  ..., 0.2549, 0.2667, 0.2667],\n",
       "            [0.6431, 0.6431, 0.6431,  ..., 0.2549, 0.2667, 0.2667],\n",
       "            [0.6471, 0.6471, 0.6471,  ..., 0.2627, 0.2706, 0.2706],\n",
       "            ...,\n",
       "            [0.9686, 0.9529, 0.9843,  ..., 0.7137, 0.7137, 0.7255],\n",
       "            [0.9922, 0.9569, 0.9451,  ..., 0.7098, 0.7176, 0.7255],\n",
       "            [0.9686, 0.8980, 0.8980,  ..., 0.7098, 0.7176, 0.7255]],\n",
       " \n",
       "           [[0.4588, 0.4588, 0.4588,  ..., 0.2235, 0.2196, 0.2196],\n",
       "            [0.4588, 0.4588, 0.4588,  ..., 0.2235, 0.2196, 0.2196],\n",
       "            [0.4627, 0.4627, 0.4627,  ..., 0.2235, 0.2235, 0.2235],\n",
       "            ...,\n",
       "            [0.9804, 0.9647, 0.9961,  ..., 0.6745, 0.6745, 0.6863],\n",
       "            [1.0000, 0.9882, 0.9765,  ..., 0.6706, 0.6784, 0.6863],\n",
       "            [1.0000, 0.9294, 0.9294,  ..., 0.6706, 0.6784, 0.6863]],\n",
       " \n",
       "           [[0.4235, 0.4235, 0.4235,  ..., 0.1804, 0.1804, 0.1804],\n",
       "            [0.4235, 0.4235, 0.4235,  ..., 0.1804, 0.1804, 0.1804],\n",
       "            [0.4275, 0.4275, 0.4275,  ..., 0.1765, 0.1765, 0.1765],\n",
       "            ...,\n",
       "            [0.9490, 0.9333, 0.9647,  ..., 0.6275, 0.6275, 0.6392],\n",
       "            [0.9843, 0.9490, 0.9373,  ..., 0.6235, 0.6314, 0.6392],\n",
       "            [0.9608, 0.8902, 0.8902,  ..., 0.6235, 0.6314, 0.6392]]]],\n",
       " \n",
       " \n",
       " \n",
       "         [[[[0.7176, 0.7176, 0.7176,  ..., 0.0941, 0.0941, 0.0941],\n",
       "            [0.7176, 0.7176, 0.7176,  ..., 0.0941, 0.0941, 0.0941],\n",
       "            [0.7176, 0.7176, 0.7176,  ..., 0.0941, 0.0941, 0.0941],\n",
       "            ...,\n",
       "            [0.9255, 0.8784, 0.9176,  ..., 0.6314, 0.6392, 0.6510],\n",
       "            [0.9451, 0.8902, 0.9020,  ..., 0.6314, 0.6353, 0.6471],\n",
       "            [0.9176, 0.8353, 0.8627,  ..., 0.6314, 0.6353, 0.6471]],\n",
       " \n",
       "           [[0.6078, 0.6078, 0.6078,  ..., 0.1333, 0.1333, 0.1333],\n",
       "            [0.6078, 0.6078, 0.6078,  ..., 0.1333, 0.1333, 0.1333],\n",
       "            [0.6078, 0.6078, 0.6078,  ..., 0.1333, 0.1333, 0.1333],\n",
       "            ...,\n",
       "            [0.9765, 0.9294, 0.9686,  ..., 0.5843, 0.5922, 0.6039],\n",
       "            [1.0000, 0.9608, 0.9725,  ..., 0.5843, 0.5882, 0.6000],\n",
       "            [0.9882, 0.9059, 0.9333,  ..., 0.5843, 0.5882, 0.6000]],\n",
       " \n",
       "           [[0.6157, 0.6157, 0.6157,  ..., 0.1647, 0.1647, 0.1647],\n",
       "            [0.6157, 0.6157, 0.6157,  ..., 0.1647, 0.1647, 0.1647],\n",
       "            [0.6157, 0.6157, 0.6157,  ..., 0.1647, 0.1647, 0.1647],\n",
       "            ...,\n",
       "            [0.9294, 0.8824, 0.9216,  ..., 0.5373, 0.5451, 0.5569],\n",
       "            [0.9647, 0.9098, 0.9216,  ..., 0.5373, 0.5412, 0.5529],\n",
       "            [0.9373, 0.8549, 0.8824,  ..., 0.5373, 0.5412, 0.5529]]]]]),\n",
       " PosixPath('dataset/train/O5myBWyJISs_12.mp4'))"
      ]
     },
     "execution_count": 9,
     "metadata": {},
     "output_type": "execute_result"
    }
   ],
   "source": [
    "ds[0]"
   ]
  },
  {
   "cell_type": "code",
   "execution_count": null,
   "metadata": {},
   "outputs": [],
   "source": [
    "with torch.no_grad():\n",
    "    batch = ds[0].to('cuda')\n",
    "    kp_infos = {}\n",
    "    kps = []\n",
    "    t = []\n",
    "    exp = []\n",
    "    pitch = []\n",
    "    roll = []\n",
    "    yaw = []\n",
    "    for image in batch:\n",
    "        motion = m_extr(image)\n",
    "\n",
    "        kp = motion['kp'].squeeze(0)\n",
    "        kps.append(kp)\n",
    "        t.append(motion['t'])\n",
    "        exp.append(motion['exp'])\n",
    "        pitch.append(motion['pitch'])\n",
    "        roll.append(motion['roll'])\n",
    "        yaw.append(motion['yaw'])\n",
    "    kp_infos['kp'] = torch.stack(kps)\n",
    "    kp_infos['t'] = torch.stack(t)\n",
    "    kp_infos['exp'] = torch.stack(exp)\n",
    "    kp_infos['pitch'] = torch.stack(pitch).squeeze(1)\n",
    "    kp_infos['roll'] = torch.stack(roll).squeeze(1)\n",
    "    kp_infos['yaw'] = torch.stack(yaw).squeeze(1)\n"
   ]
  },
  {
   "cell_type": "code",
   "execution_count": 11,
   "metadata": {},
   "outputs": [],
   "source": [
    "from src.utils.camera import get_rotation_matrix, headpose_pred_to_degree"
   ]
  },
  {
   "cell_type": "code",
   "execution_count": 9,
   "metadata": {},
   "outputs": [],
   "source": [
    "def process_kps(kp_infos: dict):\n",
    "    bs = kp_infos['kp'].shape[0]\n",
    "    kp_infos['pitch'] = headpose_pred_to_degree(kp_infos['pitch'])[:, None]  # Bx1\n",
    "    kp_infos['yaw'] = headpose_pred_to_degree(kp_infos['yaw'])[:, None]  # Bx1\n",
    "    kp_infos['roll'] = headpose_pred_to_degree(kp_infos['roll'])[:, None]  # Bx1\n",
    "    kp_infos['kp'] = kp_infos['kp'].reshape(bs, -1, 3)  # BxNx3\n",
    "    kp_infos['exp'] = kp_infos['exp'].reshape(bs, -1, 3)  # BxNx3\n",
    "\n",
    "    return kp_infos"
   ]
  },
  {
   "cell_type": "code",
   "execution_count": null,
   "metadata": {},
   "outputs": [],
   "source": [
    "kp_info = process_kps(kp_infos)"
   ]
  },
  {
   "cell_type": "code",
   "execution_count": null,
   "metadata": {},
   "outputs": [],
   "source": [
    "kp_infos['kp'].unsqueeze(0).shape"
   ]
  },
  {
   "cell_type": "code",
   "execution_count": 17,
   "metadata": {},
   "outputs": [],
   "source": [
    "with torch.no_grad():\n",
    "    reconstr, commit_loss, perplexity = vqvae(kp_infos['kp'].unsqueeze(0))\n"
   ]
  },
  {
   "cell_type": "code",
   "execution_count": 13,
   "metadata": {},
   "outputs": [],
   "source": [
    "rot = get_rotation_matrix(kp_info['pitch'], kp_info['yaw'], kp_info['roll'])"
   ]
  },
  {
   "cell_type": "code",
   "execution_count": 2,
   "metadata": {},
   "outputs": [],
   "source": [
    "import pickle"
   ]
  },
  {
   "cell_type": "code",
   "execution_count": 3,
   "metadata": {},
   "outputs": [],
   "source": [
    "with open(\"dataset/pickles/_BeHUjskbZo_2.pkl\", \"rb\") as f:\n",
    "    motion_template = pickle.load(f)"
   ]
  },
  {
   "cell_type": "code",
   "execution_count": 21,
   "metadata": {},
   "outputs": [
    {
     "data": {
      "text/plain": [
       "(1, 3)"
      ]
     },
     "execution_count": 21,
     "metadata": {},
     "output_type": "execute_result"
    }
   ],
   "source": [
    "motion_template['motion'][0]['t'].shape"
   ]
  },
  {
   "cell_type": "code",
   "execution_count": 3,
   "metadata": {},
   "outputs": [],
   "source": [
    "from src.dataset import Dataset"
   ]
  },
  {
   "cell_type": "code",
   "execution_count": 30,
   "metadata": {},
   "outputs": [
    {
     "name": "stdout",
     "output_type": "stream",
     "text": [
      "Loaded 2596 train samples\n"
     ]
    }
   ],
   "source": [
    "ds = Dataset(data_path=\"dataset\")"
   ]
  },
  {
   "cell_type": "code",
   "execution_count": 31,
   "metadata": {},
   "outputs": [],
   "source": [
    "kp = ds[98]['kp']\n",
    "exp = ds[98]['exp']\n",
    "x_s = ds[98]['x_s']\n",
    "t = ds[98]['t']\n",
    "R = ds[98]['R']\n",
    "scale = ds[98]['scale']\n",
    "c_eyes_lst = ds[98]['c_eyes_lst']"
   ]
  },
  {
   "cell_type": "code",
   "execution_count": 34,
   "metadata": {},
   "outputs": [
    {
     "data": {
      "text/plain": [
       "torch.Size([149, 126])"
      ]
     },
     "execution_count": 34,
     "metadata": {},
     "output_type": "execute_result"
    }
   ],
   "source": [
    "n_frames = kp.shape[0]\n",
    "\n",
    "kp = kp.reshape(n_frames, -1)\n",
    "exp = exp.reshape(n_frames, -1)\n",
    "\n",
    "torch.concat([kp, exp], dim=1)\n"
   ]
  }
 ],
 "metadata": {
  "kernelspec": {
   "display_name": ".venv",
   "language": "python",
   "name": "python3"
  },
  "language_info": {
   "codemirror_mode": {
    "name": "ipython",
    "version": 3
   },
   "file_extension": ".py",
   "mimetype": "text/x-python",
   "name": "python",
   "nbconvert_exporter": "python",
   "pygments_lexer": "ipython3",
   "version": "3.10.17"
  }
 },
 "nbformat": 4,
 "nbformat_minor": 2
}
