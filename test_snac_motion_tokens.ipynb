{
 "cells": [
  {
   "cell_type": "code",
   "execution_count": 2,
   "metadata": {},
   "outputs": [],
   "source": [
    "%load_ext autoreload\n",
    "%autoreload 2"
   ]
  },
  {
   "cell_type": "code",
   "execution_count": 3,
   "metadata": {},
   "outputs": [
    {
     "name": "stderr",
     "output_type": "stream",
     "text": [
      "/home/xabieririzar/liveportrait-tokenizer/.venv/lib/python3.10/site-packages/tqdm/auto.py:21: TqdmWarning: IProgress not found. Please update jupyter and ipywidgets. See https://ipywidgets.readthedocs.io/en/stable/user_install.html\n",
      "  from .autonotebook import tqdm as notebook_tqdm\n"
     ]
    }
   ],
   "source": [
    "import torch\n",
    "from snac import SNAC\n",
    "from src.modules.fsq_vqvae import FSQVAE\n",
    "from src.modules.vqvae import VQVae\n",
    "from pathlib import Path\n",
    "import torchaudio\n",
    "import yaml\n",
    "from train_tokenizer import VQVAEModule\n",
    "from src.dataset import Dataset\n",
    "\n",
    "model = SNAC.from_pretrained(\"hubertsiuzdak/snac_32khz\").eval().cuda()\n",
    "# audio = torch.randn(1, 1, 32000).cuda()  # placeholder for actual audio with shape (B, 1, T)"
   ]
  },
  {
   "cell_type": "code",
   "execution_count": 4,
   "metadata": {},
   "outputs": [],
   "source": [
    "# load audio from .wav file\n",
    "# Load and preprocess audio\n",
    "waveform, sample_rate = torchaudio.load(\"dataset/audio/_a-pB_5eRt0_7.wav\")\n",
    "# Convert to mono if stereo\n",
    "if waveform.shape[0] > 1:\n",
    "    waveform = torch.mean(waveform, dim=0, keepdim=True)\n",
    "# Resample to 32kHz if needed\n",
    "if sample_rate != 24000:\n",
    "    resampler = torchaudio.transforms.Resample(sample_rate, 24000)\n",
    "    waveform = resampler(waveform)\n",
    "# Add batch dimension and move to GPU\n",
    "audio = waveform.unsqueeze(0).cuda()\n",
    "\n",
    "with torch.inference_mode():\n",
    "    codes = model.encode(audio)\n",
    "    audio_hat = model.decode(codes)"
   ]
  },
  {
   "cell_type": "code",
   "execution_count": 17,
   "metadata": {},
   "outputs": [],
   "source": [
    "def load_vqvae(model_path: Path) -> VQVae:\n",
    "    \"\"\"\n",
    "    Load and prepare a VQVAE model from a checkpoint file.\n",
    "    \n",
    "    Args:\n",
    "        model_path (Path): Path to the model checkpoint file\n",
    "        \n",
    "    Returns:\n",
    "        VQVae: Prepared VQVAE model loaded on CUDA and in eval mode\n",
    "    \"\"\"\n",
    "    pretrained = torch.load(model_path)\n",
    "    model_dir = model_path.parent.parent\n",
    "\n",
    "    if model_path.suffix == '.ckpt':\n",
    "        config_path = model_dir / 'wandb' / 'latest-run' / 'files' / 'config.yaml'\n",
    "    else:\n",
    "        config_path = model_path.parent / 'wandb' / 'latest-run' / 'files' / 'config.yaml'\n",
    "\n",
    "    config = yaml.safe_load(open(config_path, \"r\"))\n",
    "    feats_enabled = config['feats_enabled']['value']\n",
    "\n",
    "    print([feat for feat in sorted(feats_enabled) if feats_enabled[feat]['enabled']])\n",
    "    \n",
    "    if model_path.suffix == '.ckpt':\n",
    "        vqvae_module = VQVAEModule(vqvae_config=config[\"vqvae\"]['value'], losses_config=config[\"losses\"])\n",
    "        vqvae_module.load_state_dict(pretrained['state_dict'])\n",
    "        vqvae = vqvae_module.vqvae\n",
    "    else:\n",
    "        vqvae = VQVae(**config[\"vqvae\"]['value'])\n",
    "        vqvae.load_state_dict(pretrained)\n",
    "\n",
    "    vqvae.to(\"cuda\")\n",
    "    vqvae.eval()\n",
    "    \n",
    "    return vqvae, feats_enabled"
   ]
  },
  {
   "cell_type": "code",
   "execution_count": 139,
   "metadata": {},
   "outputs": [
    {
     "name": "stdout",
     "output_type": "stream",
     "text": [
      "['c_eyes_lst', 'c_lip_lst', 'kp', 't', 'x_s']\n",
      "FSQ Config:\n",
      "Levels: [4, 4, 4, 4]\n",
      "Output Emb Width: 4\n",
      "Num Quantizers: 1\n",
      "Using FSQ\n",
      "Codebook size: 256\n"
     ]
    },
    {
     "ename": "RuntimeError",
     "evalue": "Error(s) in loading state_dict for VQVAEModule:\n\tsize mismatch for vqvae.encoder.branch1.2.0.weight: copying a param with shape torch.Size([512, 512, 2]) from checkpoint, the shape in current model is torch.Size([512, 512, 3]).\n\tsize mismatch for vqvae.encoder.branch1.3.0.weight: copying a param with shape torch.Size([512, 512, 2]) from checkpoint, the shape in current model is torch.Size([512, 512, 3]).",
     "output_type": "error",
     "traceback": [
      "\u001b[0;31m---------------------------------------------------------------------------\u001b[0m",
      "\u001b[0;31mRuntimeError\u001b[0m                              Traceback (most recent call last)",
      "Cell \u001b[0;32mIn[139], line 1\u001b[0m\n\u001b[0;32m----> 1\u001b[0m rest_fsq, rest_feats \u001b[38;5;241m=\u001b[39m \u001b[43mload_vqvae\u001b[49m\u001b[43m(\u001b[49m\u001b[43mPath\u001b[49m\u001b[43m(\u001b[49m\u001b[38;5;124;43m\"\u001b[39;49m\u001b[38;5;124;43moutputs/rest_fsq_D4/checkpoints/checkpoint_epoch=1059.ckpt\u001b[39;49m\u001b[38;5;124;43m\"\u001b[39;49m\u001b[43m)\u001b[49m\u001b[43m)\u001b[49m\n",
      "Cell \u001b[0;32mIn[119], line 26\u001b[0m, in \u001b[0;36mload_vqvae\u001b[0;34m(model_path)\u001b[0m\n\u001b[1;32m     24\u001b[0m \u001b[38;5;28;01mif\u001b[39;00m model_path\u001b[38;5;241m.\u001b[39msuffix \u001b[38;5;241m==\u001b[39m \u001b[38;5;124m'\u001b[39m\u001b[38;5;124m.ckpt\u001b[39m\u001b[38;5;124m'\u001b[39m:\n\u001b[1;32m     25\u001b[0m     vqvae_module \u001b[38;5;241m=\u001b[39m VQVAEModule(vqvae_config\u001b[38;5;241m=\u001b[39mconfig[\u001b[38;5;124m\"\u001b[39m\u001b[38;5;124mvqvae\u001b[39m\u001b[38;5;124m\"\u001b[39m][\u001b[38;5;124m'\u001b[39m\u001b[38;5;124mvalue\u001b[39m\u001b[38;5;124m'\u001b[39m], losses_config\u001b[38;5;241m=\u001b[39mconfig[\u001b[38;5;124m\"\u001b[39m\u001b[38;5;124mlosses\u001b[39m\u001b[38;5;124m\"\u001b[39m])\n\u001b[0;32m---> 26\u001b[0m     \u001b[43mvqvae_module\u001b[49m\u001b[38;5;241;43m.\u001b[39;49m\u001b[43mload_state_dict\u001b[49m\u001b[43m(\u001b[49m\u001b[43mpretrained\u001b[49m\u001b[43m[\u001b[49m\u001b[38;5;124;43m'\u001b[39;49m\u001b[38;5;124;43mstate_dict\u001b[39;49m\u001b[38;5;124;43m'\u001b[39;49m\u001b[43m]\u001b[49m\u001b[43m)\u001b[49m\n\u001b[1;32m     27\u001b[0m     vqvae \u001b[38;5;241m=\u001b[39m vqvae_module\u001b[38;5;241m.\u001b[39mvqvae\n\u001b[1;32m     28\u001b[0m \u001b[38;5;28;01melse\u001b[39;00m:\n",
      "File \u001b[0;32m~/liveportrait-tokenizer/.venv/lib/python3.10/site-packages/torch/nn/modules/module.py:2593\u001b[0m, in \u001b[0;36mModule.load_state_dict\u001b[0;34m(self, state_dict, strict, assign)\u001b[0m\n\u001b[1;32m   2585\u001b[0m         error_msgs\u001b[38;5;241m.\u001b[39minsert(\n\u001b[1;32m   2586\u001b[0m             \u001b[38;5;241m0\u001b[39m,\n\u001b[1;32m   2587\u001b[0m             \u001b[38;5;124m\"\u001b[39m\u001b[38;5;124mMissing key(s) in state_dict: \u001b[39m\u001b[38;5;132;01m{}\u001b[39;00m\u001b[38;5;124m. \u001b[39m\u001b[38;5;124m\"\u001b[39m\u001b[38;5;241m.\u001b[39mformat(\n\u001b[1;32m   2588\u001b[0m                 \u001b[38;5;124m\"\u001b[39m\u001b[38;5;124m, \u001b[39m\u001b[38;5;124m\"\u001b[39m\u001b[38;5;241m.\u001b[39mjoin(\u001b[38;5;124mf\u001b[39m\u001b[38;5;124m'\u001b[39m\u001b[38;5;124m\"\u001b[39m\u001b[38;5;132;01m{\u001b[39;00mk\u001b[38;5;132;01m}\u001b[39;00m\u001b[38;5;124m\"\u001b[39m\u001b[38;5;124m'\u001b[39m \u001b[38;5;28;01mfor\u001b[39;00m k \u001b[38;5;129;01min\u001b[39;00m missing_keys)\n\u001b[1;32m   2589\u001b[0m             ),\n\u001b[1;32m   2590\u001b[0m         )\n\u001b[1;32m   2592\u001b[0m \u001b[38;5;28;01mif\u001b[39;00m \u001b[38;5;28mlen\u001b[39m(error_msgs) \u001b[38;5;241m>\u001b[39m \u001b[38;5;241m0\u001b[39m:\n\u001b[0;32m-> 2593\u001b[0m     \u001b[38;5;28;01mraise\u001b[39;00m \u001b[38;5;167;01mRuntimeError\u001b[39;00m(\n\u001b[1;32m   2594\u001b[0m         \u001b[38;5;124m\"\u001b[39m\u001b[38;5;124mError(s) in loading state_dict for \u001b[39m\u001b[38;5;132;01m{}\u001b[39;00m\u001b[38;5;124m:\u001b[39m\u001b[38;5;130;01m\\n\u001b[39;00m\u001b[38;5;130;01m\\t\u001b[39;00m\u001b[38;5;132;01m{}\u001b[39;00m\u001b[38;5;124m\"\u001b[39m\u001b[38;5;241m.\u001b[39mformat(\n\u001b[1;32m   2595\u001b[0m             \u001b[38;5;28mself\u001b[39m\u001b[38;5;241m.\u001b[39m\u001b[38;5;18m__class__\u001b[39m\u001b[38;5;241m.\u001b[39m\u001b[38;5;18m__name__\u001b[39m, \u001b[38;5;124m\"\u001b[39m\u001b[38;5;130;01m\\n\u001b[39;00m\u001b[38;5;130;01m\\t\u001b[39;00m\u001b[38;5;124m\"\u001b[39m\u001b[38;5;241m.\u001b[39mjoin(error_msgs)\n\u001b[1;32m   2596\u001b[0m         )\n\u001b[1;32m   2597\u001b[0m     )\n\u001b[1;32m   2598\u001b[0m \u001b[38;5;28;01mreturn\u001b[39;00m _IncompatibleKeys(missing_keys, unexpected_keys)\n",
      "\u001b[0;31mRuntimeError\u001b[0m: Error(s) in loading state_dict for VQVAEModule:\n\tsize mismatch for vqvae.encoder.branch1.2.0.weight: copying a param with shape torch.Size([512, 512, 2]) from checkpoint, the shape in current model is torch.Size([512, 512, 3]).\n\tsize mismatch for vqvae.encoder.branch1.3.0.weight: copying a param with shape torch.Size([512, 512, 2]) from checkpoint, the shape in current model is torch.Size([512, 512, 3])."
     ]
    }
   ],
   "source": [
    "rest_fsq, rest_feats = load_vqvae(Path(\"outputs/rest_fsq_D4/checkpoints/checkpoint_epoch=1059.ckpt\"))"
   ]
  },
  {
   "cell_type": "code",
   "execution_count": 13,
   "metadata": {},
   "outputs": [
    {
     "name": "stdout",
     "output_type": "stream",
     "text": [
      "Loading precomputed statistics from dataset/stats_all.pkl\n",
      "Loaded feature-wise statistics successfully\n",
      "Loaded 4090 eval samples\n"
     ]
    }
   ],
   "source": [
    "ds = Dataset(\"dataset\", split=\"eval\", compute_stats=False)"
   ]
  },
  {
   "cell_type": "code",
   "execution_count": 14,
   "metadata": {},
   "outputs": [],
   "source": [
    "def prepare_features(sample, feats_enabled, only_lips, device=\"cuda\"):\n",
    "    \"\"\"\n",
    "    Prepare features from a sample by processing enabled features and concatenating them.\n",
    "    \n",
    "    Args:\n",
    "        sample (dict): Dictionary containing the sample data\n",
    "        feats_enabled (dict): Dictionary of enabled features and their metadata\n",
    "        device (str): Device to move tensors to (default: \"cuda\")\n",
    "    \n",
    "    Returns:\n",
    "        tuple: (features tensor, dimensions dictionary)\n",
    "    \"\"\"\n",
    "    frames = sample['kp'].shape[0]\n",
    "    fps = sample['metadata']['output_fps']\n",
    "    seq_len = min(sample['kp'].shape[0], 300)\n",
    "\n",
    "    # Initialize an empty tensor list to collect features\n",
    "    feature_tensors = []\n",
    "    dims = {}\n",
    "\n",
    "    for feat, metadata in feats_enabled.items():\n",
    "        is_enabled = metadata['enabled']\n",
    "        if is_enabled:\n",
    "            print(f\"Using {feat}\")\n",
    "            if feat in [\"exp\", \"exp_velocity\"]:\n",
    "                if only_lips:\n",
    "                    feature = sample[feat][:seq_len, :, 15:, :].reshape(1, seq_len, -1)\n",
    "                else:\n",
    "                    feature = sample[feat][:seq_len, :, :15, :].reshape(1, seq_len, -1)\n",
    "            else:\n",
    "                feature = sample[feat][:seq_len, ...].reshape(1, seq_len, -1)\n",
    "            \n",
    "            dims[feat] = feature.shape[-1]\n",
    "            feature_tensors.append(feature)\n",
    "\n",
    "    # Concatenate all enabled features\n",
    "    if feature_tensors:\n",
    "        features = torch.concat(feature_tensors, dim=2)\n",
    "    else:\n",
    "        # Create an empty tensor if no features are enabled\n",
    "        features = torch.empty((1, seq_len, 0))\n",
    "\n",
    "    features = features.to(device)\n",
    "    print(\"dims: \", dims)\n",
    "    print(\"Total dims: \", features.shape[-1])\n",
    "    \n",
    "    return features, dims"
   ]
  },
  {
   "cell_type": "code",
   "execution_count": 15,
   "metadata": {},
   "outputs": [
    {
     "name": "stdout",
     "output_type": "stream",
     "text": [
      "Using c_eyes_lst\n",
      "Using c_lip_lst\n",
      "Using kp\n",
      "Using t\n",
      "Using x_s\n",
      "dims:  {'c_eyes_lst': 2, 'c_lip_lst': 1, 'kp': 63, 't': 3, 'x_s': 63}\n",
      "Total dims:  132\n"
     ]
    }
   ],
   "source": [
    "sample = ds[3364] \n",
    "\n",
    "pickle_path = sample['metadata']['pickle_path']\n",
    "vid_id = pickle_path.split(\"/\")[-1].split(\".\")[0]\n",
    "vid_path = f\"dataset/train/{vid_id}.mp4\"\n",
    "\n",
    "rest_features, rest_dims = prepare_features(sample, rest_feats, only_lips=False)"
   ]
  },
  {
   "cell_type": "code",
   "execution_count": 45,
   "metadata": {},
   "outputs": [],
   "source": [
    "z_hat, indices = rest_fsq.encode(rest_features)"
   ]
  },
  {
   "cell_type": "code",
   "execution_count": 51,
   "metadata": {},
   "outputs": [],
   "source": [
    "codes = rest_fsq.quantizer.indices_to_codes(indices)"
   ]
  },
  {
   "cell_type": "code",
   "execution_count": 98,
   "metadata": {},
   "outputs": [],
   "source": [
    "config = yaml.safe_load(open('configs/fsq_config.yaml'))"
   ]
  },
  {
   "cell_type": "code",
   "execution_count": 133,
   "metadata": {},
   "outputs": [
    {
     "name": "stdout",
     "output_type": "stream",
     "text": [
      "FSQ Config:\n",
      "Levels: [4, 4, 4, 4, 4, 4, 4, 4]\n",
      "Output Emb Width: 8\n",
      "Num Quantizers: 1\n",
      "Using FSQ\n",
      "Codebook size: 65536\n"
     ]
    }
   ],
   "source": [
    "test = VQVAEModule(vqvae_config=config[\"vqvae\"], losses_config=config[\"losses\"])"
   ]
  },
  {
   "cell_type": "code",
   "execution_count": 134,
   "metadata": {},
   "outputs": [],
   "source": [
    "fsq = test.vqvae.to(\"cuda\")"
   ]
  },
  {
   "cell_type": "code",
   "execution_count": 135,
   "metadata": {},
   "outputs": [],
   "source": [
    "indices = fsq.encode(rest_features)"
   ]
  },
  {
   "cell_type": "code",
   "execution_count": 136,
   "metadata": {},
   "outputs": [],
   "source": [
    "codes = fsq.quantizer.indices_to_codes(indices)"
   ]
  },
  {
   "cell_type": "code",
   "execution_count": 137,
   "metadata": {},
   "outputs": [],
   "source": [
    "codes = fsq.preprocess(codes)"
   ]
  },
  {
   "cell_type": "code",
   "execution_count": 138,
   "metadata": {},
   "outputs": [
    {
     "data": {
      "text/plain": [
       "torch.Size([1, 132, 100])"
      ]
     },
     "execution_count": 138,
     "metadata": {},
     "output_type": "execute_result"
    }
   ],
   "source": [
    "fsq.decoder(codes).shape"
   ]
  },
  {
   "cell_type": "code",
   "execution_count": null,
   "metadata": {},
   "outputs": [
    {
     "name": "stdout",
     "output_type": "stream",
     "text": [
      "Loading precomputed statistics from dataset/stats_all.pkl\n",
      "Loaded feature-wise statistics successfully\n",
      "Loaded 4090 eval samples\n"
     ]
    }
   ],
   "source": [
    "ds = Dataset(\"dataset\", split=\"eval\", compute_stats=False)"
   ]
  },
  {
   "cell_type": "code",
   "execution_count": null,
   "metadata": {},
   "outputs": [],
   "source": [
    "def prepare_features(sample, feats_enabled, only_lips, device=\"cuda\"):\n",
    "    \"\"\"\n",
    "    Prepare features from a sample by processing enabled features and concatenating them.\n",
    "    \n",
    "    Args:\n",
    "        sample (dict): Dictionary containing the sample data\n",
    "        feats_enabled (dict): Dictionary of enabled features and their metadata\n",
    "        device (str): Device to move tensors to (default: \"cuda\")\n",
    "    \n",
    "    Returns:\n",
    "        tuple: (features tensor, dimensions dictionary)\n",
    "    \"\"\"\n",
    "    frames = sample['kp'].shape[0]\n",
    "    fps = sample['metadata']['output_fps']\n",
    "    seq_len = min(sample['kp'].shape[0], 300)\n",
    "\n",
    "    # Initialize an empty tensor list to collect features\n",
    "    feature_tensors = []\n",
    "    dims = {}\n",
    "\n",
    "    for feat, metadata in feats_enabled.items():\n",
    "        is_enabled = metadata['enabled']\n",
    "        if is_enabled:\n",
    "            print(f\"Using {feat}\")\n",
    "            if feat in [\"exp\", \"exp_velocity\"]:\n",
    "                if only_lips:\n",
    "                    feature = sample[feat][:seq_len, :, 15:, :].reshape(1, seq_len, -1)\n",
    "                else:\n",
    "                    feature = sample[feat][:seq_len, :, :15, :].reshape(1, seq_len, -1)\n",
    "            else:\n",
    "                feature = sample[feat][:seq_len, ...].reshape(1, seq_len, -1)\n",
    "            \n",
    "            dims[feat] = feature.shape[-1]\n",
    "            feature_tensors.append(feature)\n",
    "\n",
    "    # Concatenate all enabled features\n",
    "    if feature_tensors:\n",
    "        features = torch.concat(feature_tensors, dim=2)\n",
    "    else:\n",
    "        # Create an empty tensor if no features are enabled\n",
    "        features = torch.empty((1, seq_len, 0))\n",
    "\n",
    "    features = features.to(device)\n",
    "    print(\"dims: \", dims)\n",
    "    print(\"Total dims: \", features.shape[-1])\n",
    "    \n",
    "    return features, dims"
   ]
  },
  {
   "cell_type": "code",
   "execution_count": null,
   "metadata": {},
   "outputs": [
    {
     "name": "stdout",
     "output_type": "stream",
     "text": [
      "Using c_eyes_lst\n",
      "Using c_lip_lst\n",
      "Using kp\n",
      "Using t\n",
      "Using x_s\n",
      "dims:  {'c_eyes_lst': 2, 'c_lip_lst': 1, 'kp': 63, 't': 3, 'x_s': 63}\n",
      "Total dims:  132\n"
     ]
    }
   ],
   "source": [
    "sample = ds[3364] \n",
    "\n",
    "pickle_path = sample['metadata']['pickle_path']\n",
    "vid_id = pickle_path.split(\"/\")[-1].split(\".\")[0]\n",
    "vid_path = f\"dataset/train/{vid_id}.mp4\"\n",
    "\n",
    "rest_features, rest_dims = prepare_features(sample, rest_feats, only_lips=False)"
   ]
  },
  {
   "cell_type": "code",
   "execution_count": null,
   "metadata": {},
   "outputs": [
    {
     "name": "stdout",
     "output_type": "stream",
     "text": [
      "FSQ Ranges:\n",
      "rest: 0 - 256 (size: 256)\n",
      "rot_scale: 256 - 512 (size: 256)\n",
      "exp: 512 - 1049088 (size: 1048576)\n",
      "lip: 1049088 - 2097664 (size: 1048576)\n",
      "\n",
      "Testing code mapping:\n",
      "Code 0 -> rest (local: 0)\n",
      "Code 255 -> rest (local: 255)\n",
      "Code 256 -> rot_scale (local: 0)\n",
      "Code 511 -> rot_scale (local: 255)\n",
      "Code 512 -> exp (local: 0)\n",
      "Code 1000000 -> exp (local: 999488)\n",
      "Code 1500000 -> lip (local: 450912)\n"
     ]
    }
   ],
   "source": [
    "fsq_index_ranges = {\n",
    "    'rest': (4, 4),\n",
    "    'rot_scale': (4, 4),\n",
    "    'exp': (4, 10),\n",
    "    'lip': (4, 10)\n",
    "}\n",
    "\n",
    "def calculate_fsq_ranges(fsq_configs):\n",
    "    \"\"\"\n",
    "    Calculate codebook size and value ranges for each FSQ model.\n",
    "    \n",
    "    Args:\n",
    "        fsq_configs: Dict with FSQ names as keys and (L, D) tuples as values\n",
    "                    where L is levels and D is dimensions\n",
    "    \n",
    "    Returns:\n",
    "        Dict with FSQ names as keys and (start_idx, end_idx) tuples as values\n",
    "    \"\"\"\n",
    "    ranges = {}\n",
    "    current_start = 0\n",
    "    \n",
    "    for fsq_name, (L, D) in fsq_configs.items():\n",
    "        codebook_size = L ** D\n",
    "        end_idx = current_start + codebook_size\n",
    "        ranges[fsq_name] = (current_start, end_idx)\n",
    "        current_start = end_idx\n",
    "    \n",
    "    return ranges\n",
    "\n",
    "def map_code_to_fsq(code_index, fsq_ranges):\n",
    "    \"\"\"\n",
    "    Map a global code index to the correct FSQ and shift it to its local range.\n",
    "    \n",
    "    Args:\n",
    "        code_index: Global code index\n",
    "        fsq_ranges: Dict with FSQ names as keys and (start_idx, end_idx) tuples as values\n",
    "    \n",
    "    Returns:\n",
    "        Tuple of (fsq_name, local_code_index)\n",
    "    \"\"\"\n",
    "    for fsq_name, (start_idx, end_idx) in fsq_ranges.items():\n",
    "        if start_idx <= code_index < end_idx:\n",
    "            local_code_index = code_index - start_idx\n",
    "            return fsq_name, local_code_index\n",
    "    \n",
    "    raise ValueError(f\"Code index {code_index} is out of range for all FSQ models\")\n",
    "\n",
    "# Calculate the actual ranges\n",
    "fsq_ranges = calculate_fsq_ranges(fsq_index_ranges)\n",
    "print(\"FSQ Ranges:\")\n",
    "for name, (start, end) in fsq_ranges.items():\n",
    "    codebook_size = end - start\n",
    "    print(f\"{name}: {start} - {end} (size: {codebook_size})\")\n",
    "\n",
    "# Test the mapping function\n",
    "print(\"\\nTesting code mapping:\")\n",
    "test_codes = [0, 255, 256, 511, 512, 1000000, 1500000]\n",
    "for code in test_codes:\n",
    "    try:\n",
    "        fsq_name, local_code = map_code_to_fsq(code, fsq_ranges)\n",
    "        print(f\"Code {code} -> {fsq_name} (local: {local_code})\")\n",
    "    except ValueError as e:\n",
    "        print(f\"Code {code} -> {e}\")\n"
   ]
  }
 ],
 "metadata": {
  "kernelspec": {
   "display_name": ".venv",
   "language": "python",
   "name": "python3"
  },
  "language_info": {
   "codemirror_mode": {
    "name": "ipython",
    "version": 3
   },
   "file_extension": ".py",
   "mimetype": "text/x-python",
   "name": "python",
   "nbconvert_exporter": "python",
   "pygments_lexer": "ipython3",
   "version": "3.10.17"
  }
 },
 "nbformat": 4,
 "nbformat_minor": 2
}
