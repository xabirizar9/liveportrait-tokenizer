{
 "cells": [
  {
   "cell_type": "code",
   "execution_count": 1,
   "metadata": {},
   "outputs": [],
   "source": [
    "%load_ext autoreload\n",
    "%autoreload 2"
   ]
  },
  {
   "cell_type": "code",
   "execution_count": null,
   "metadata": {},
   "outputs": [],
   "source": [
    "import torch\n",
    "import torchaudio\n",
    "import yaml\n",
    "import pickle\n",
    "\n",
    "from collections import namedtuple\n",
    "from pathlib import Path\n",
    "from snac import SNAC\n",
    "from train_tokenizer import VQVAEModule\n",
    "import imageio\n",
    "from src.dataset import Dataset\n",
    "from src.tokenizer_module import TokenizerModule\n",
    "from utils.tokenizer_utils import prepare_features, load_fsq_vae, repackage_output\n",
    "import matplotlib.pyplot as plt"
   ]
  },
  {
   "cell_type": "code",
   "execution_count": 2,
   "metadata": {},
   "outputs": [],
   "source": [
    "from src import TokenizerModule"
   ]
  },
  {
   "cell_type": "code",
   "execution_count": null,
   "metadata": {},
   "outputs": [],
   "source": []
  },
  {
   "cell_type": "code",
   "execution_count": null,
   "metadata": {},
   "outputs": [],
   "source": [
    "ds = Dataset(\"dataset\", split=\"eval\", val_split=0.1, seed=2, compute_stats=False)"
   ]
  },
  {
   "cell_type": "code",
   "execution_count": null,
   "metadata": {},
   "outputs": [],
   "source": [
    "sample = ds[134] \n",
    "\n",
    "pickle_path = sample['metadata']['pickle_path']\n",
    "vid_id = pickle_path.split(\"/\")[-1].split(\".\")[0]\n",
    "vid_path = f\"dataset/train/{vid_id}.mp4\"\n",
    "\n",
    "# Read the first frame from the video and display it\n",
    "frame = imageio.get_reader(vid_path).get_data(0)\n",
    "plt.imshow(frame)\n",
    "plt.show()"
   ]
  },
  {
   "cell_type": "code",
   "execution_count": 3,
   "metadata": {},
   "outputs": [
    {
     "name": "stdout",
     "output_type": "stream",
     "text": [
      "Loading precomputed statistics from dataset/stats_all.pkl\n",
      "Loaded feature-wise statistics successfully\n",
      "Loaded 2045 test samples\n",
      "['exp']\n",
      "FSQ Config:\n",
      "Levels: 4\n",
      "Output Emb Width: 4\n",
      "Num Quantizers: 1\n",
      "Using FSQ\n",
      "Codebook size: 256\n",
      "['exp']\n",
      "FSQ Config:\n",
      "Levels: 4\n",
      "Output Emb Width: 4\n",
      "Num Quantizers: 1\n",
      "Using FSQ\n",
      "Codebook size: 256\n",
      "['c_eyes_lst', 'c_lip_lst', 'kp', 't', 'x_s']\n",
      "FSQ Config:\n",
      "Levels: 4\n",
      "Output Emb Width: 4\n",
      "Num Quantizers: 1\n",
      "Using FSQ\n",
      "Codebook size: 256\n",
      "['R', 'scale']\n",
      "FSQ Config:\n",
      "Levels: 4\n",
      "Output Emb Width: 4\n",
      "Num Quantizers: 1\n",
      "Using FSQ\n",
      "Codebook size: 256\n"
     ]
    }
   ],
   "source": [
    "# tokenizer = TokenizerModule(tokenizer_config=\"configs/tokenizer_config.yaml\")\n",
    "tokenizer = TokenizerModule.from_pretrained(\"InternalCan/tokenizer_module\")"
   ]
  },
  {
   "cell_type": "code",
   "execution_count": 22,
   "metadata": {},
   "outputs": [],
   "source": [
    "features = tokenizer.pickle_to_features(\"dataset/pickles/WQvT1_tQDhg_22.pkl\")"
   ]
  },
  {
   "cell_type": "code",
   "execution_count": null,
   "metadata": {},
   "outputs": [],
   "source": [
    "features.shape"
   ]
  },
  {
   "cell_type": "code",
   "execution_count": 24,
   "metadata": {},
   "outputs": [],
   "source": [
    "indices = tokenizer.features_to_codes(features)"
   ]
  },
  {
   "cell_type": "code",
   "execution_count": null,
   "metadata": {},
   "outputs": [],
   "source": [
    "indices.shape"
   ]
  },
  {
   "cell_type": "code",
   "execution_count": null,
   "metadata": {},
   "outputs": [],
   "source": [
    "reconstr_feats = tokenizer.codes_to_features(indices)"
   ]
  },
  {
   "cell_type": "code",
   "execution_count": null,
   "metadata": {},
   "outputs": [],
   "source": [
    "reconstr_feats.shape"
   ]
  },
  {
   "cell_type": "code",
   "execution_count": null,
   "metadata": {},
   "outputs": [],
   "source": [
    "output = tokenizer.features_to_pickle(sample, reconstr_feats, pickle_path=pickle_path)"
   ]
  },
  {
   "cell_type": "code",
   "execution_count": 16,
   "metadata": {},
   "outputs": [],
   "source": [
    "new_path = \"dataset/pickles/WQvT1_tQDhg_22_reconstructed.pkl\""
   ]
  },
  {
   "cell_type": "code",
   "execution_count": 17,
   "metadata": {},
   "outputs": [],
   "source": [
    "# # Replace reconstructed features with original ones for a specific range\n",
    "# feat = 'exp'\n",
    "\n",
    "# feat_range = (0, 21)\n",
    "\n",
    "# denormalized_sample = ds.denormalize_features(sample[feat], feat)\n",
    "\n",
    "# for i in range(output['n_frames']):\n",
    "#     output['motion'][i][feat][:, feat_range[0]:feat_range[1]] = 0"
   ]
  },
  {
   "cell_type": "code",
   "execution_count": null,
   "metadata": {},
   "outputs": [],
   "source": [
    "!python inference.py -d {new_path} -s assets/examples/source/reconstructed.png"
   ]
  },
  {
   "cell_type": "code",
   "execution_count": null,
   "metadata": {},
   "outputs": [],
   "source": [
    "# tokenizer.save_pretrained(\"tokenizer_module\")\n",
    "# tokenizer.push_to_hub(\"InternalCan/tokenizer_module\")"
   ]
  }
 ],
 "metadata": {
  "kernelspec": {
   "display_name": ".venv",
   "language": "python",
   "name": "python3"
  },
  "language_info": {
   "codemirror_mode": {
    "name": "ipython",
    "version": 3
   },
   "file_extension": ".py",
   "mimetype": "text/x-python",
   "name": "python",
   "nbconvert_exporter": "python",
   "pygments_lexer": "ipython3",
   "version": "3.10.17"
  }
 },
 "nbformat": 4,
 "nbformat_minor": 2
}
