{
 "cells": [
  {
   "cell_type": "code",
   "execution_count": 1,
   "metadata": {},
   "outputs": [],
   "source": [
    "%load_ext autoreload\n",
    "%autoreload 2"
   ]
  },
  {
   "cell_type": "code",
   "execution_count": null,
   "metadata": {},
   "outputs": [],
   "source": [
    "import torch\n",
    "import torchaudio\n",
    "import yaml\n",
    "import pickle\n",
    "\n",
    "from collections import namedtuple\n",
    "from pathlib import Path\n",
    "from snac import SNAC\n",
    "from train_tokenizer import VQVAEModule\n",
    "import imageio\n",
    "from src.dataset import Dataset\n",
    "from src.tokenizer_module import TokenizerModule\n",
    "from utils.tokenizer_utils import prepare_features, load_fsq_vae, repackage_output\n",
    "import matplotlib.pyplot as plt"
   ]
  },
  {
   "cell_type": "code",
   "execution_count": 3,
   "metadata": {},
   "outputs": [],
   "source": [
    "\n",
    "# model = SNAC.from_pretrained(\"hubertsiuzdak/snac_32khz\").eval().cuda()\n",
    "# audio = torch.randn(1, 1, 32000).cuda()  # placeholder for actual audio with shape (B, 1, T)"
   ]
  },
  {
   "cell_type": "code",
   "execution_count": 4,
   "metadata": {},
   "outputs": [],
   "source": [
    "# # load audio from .wav file\n",
    "# # Load and preprocess audio\n",
    "# waveform, sample_rate = torchaudio.load(\"dataset/audio/_a-pB_5eRt0_7.wav\")\n",
    "# # Convert to mono if stereo\n",
    "# if waveform.shape[0] > 1:\n",
    "#     waveform = torch.mean(waveform, dim=0, keepdim=True)\n",
    "# # Resample to 32kHz if needed\n",
    "# if sample_rate != 24000:\n",
    "#     resampler = torchaudio.transforms.Resample(sample_rate, 24000)\n",
    "#     waveform = resampler(waveform)\n",
    "# # Add batch dimension and move to GPU\n",
    "# audio = waveform.unsqueeze(0).cuda()\n",
    "\n",
    "# with torch.inference_mode():\n",
    "#     codes = model.encode(audio)\n",
    "#     audio_hat = model.decode(codes)"
   ]
  },
  {
   "cell_type": "code",
   "execution_count": null,
   "metadata": {},
   "outputs": [],
   "source": [
    "rest_fsq, rest_feats = load_fsq_vae(Path(\"outputs/modified_rest_fsq_D4/checkpoints/checkpoint_epoch=319.ckpt\"))"
   ]
  },
  {
   "cell_type": "code",
   "execution_count": null,
   "metadata": {},
   "outputs": [],
   "source": [
    "ds = Dataset(\"dataset\", split=\"eval\", val_split=0.1, seed=2, compute_stats=False)"
   ]
  },
  {
   "cell_type": "code",
   "execution_count": null,
   "metadata": {},
   "outputs": [],
   "source": [
    "sample = ds[134] \n",
    "\n",
    "pickle_path = sample['metadata']['pickle_path']\n",
    "vid_id = pickle_path.split(\"/\")[-1].split(\".\")[0]\n",
    "vid_path = f\"dataset/train/{vid_id}.mp4\"\n",
    "\n",
    "# Read the first frame from the video and display it\n",
    "frame = imageio.get_reader(vid_path).get_data(0)\n",
    "plt.imshow(frame)\n",
    "plt.show()"
   ]
  },
  {
   "cell_type": "code",
   "execution_count": null,
   "metadata": {},
   "outputs": [],
   "source": [
    "# tokenizer = TokenizerModule(tokenizer_config=\"configs/tokenizer_config.yaml\")\n",
    "tokenizer = TokenizerModule.from_pretrained(\"InternalCan/tokenizer_module\")"
   ]
  },
  {
   "cell_type": "code",
   "execution_count": null,
   "metadata": {},
   "outputs": [],
   "source": [
    "sample['metadata']"
   ]
  },
  {
   "cell_type": "code",
   "execution_count": 10,
   "metadata": {},
   "outputs": [],
   "source": [
    "indices = tokenizer.encode(sample)"
   ]
  },
  {
   "cell_type": "code",
   "execution_count": null,
   "metadata": {},
   "outputs": [],
   "source": [
    "reconstr_feats = tokenizer.decode(indices)"
   ]
  },
  {
   "cell_type": "code",
   "execution_count": 12,
   "metadata": {},
   "outputs": [],
   "source": [
    "new_dims = {\n",
    "    'R': 9,\n",
    "    'c_eyes_lst': 2,\n",
    "    'c_lip_lst': 1,\n",
    "    'exp': 63,\n",
    "    'kp': 63,\n",
    "    'scale': 1,\n",
    "    't': 3,\n",
    "    'x_s': 63\n",
    "}"
   ]
  },
  {
   "cell_type": "code",
   "execution_count": 28,
   "metadata": {},
   "outputs": [],
   "source": [
    "new_rest_feats = {}\n",
    "\n",
    "for key, value in rest_feats.items():\n",
    "    new_rest_feats[key] = value\n",
    "    new_rest_feats[key]['enabled'] = True"
   ]
  },
  {
   "cell_type": "code",
   "execution_count": null,
   "metadata": {},
   "outputs": [],
   "source": [
    "output = repackage_output(sample, reconstr_feats, ds, dims=new_dims, feats_data=new_rest_feats)"
   ]
  },
  {
   "cell_type": "code",
   "execution_count": 22,
   "metadata": {},
   "outputs": [],
   "source": [
    "# # Replace reconstructed features with original ones for a specific range\n",
    "# feat = 'exp'\n",
    "\n",
    "# feat_range = (0, 21)\n",
    "\n",
    "# denormalized_sample = ds.denormalize_features(sample[feat], feat)\n",
    "\n",
    "# for i in range(output['n_frames']):\n",
    "#     output['motion'][i][feat][:, feat_range[0]:feat_range[1]] = 0"
   ]
  },
  {
   "cell_type": "code",
   "execution_count": null,
   "metadata": {},
   "outputs": [],
   "source": [
    "pickle_dir = Path(\"dataset/pickles\")\n",
    "video_id = Path(pickle_path).stem\n",
    "new_path = pickle_dir / f\"{video_id}_reconstructed.pkl\"\n",
    "print(new_path)\n",
    "with open(new_path, \"wb\") as f:\n",
    "    pickle.dump(output, f)"
   ]
  },
  {
   "cell_type": "code",
   "execution_count": null,
   "metadata": {},
   "outputs": [],
   "source": [
    "!python inference.py -d {new_path} -s assets/examples/source/reconstructed.png"
   ]
  },
  {
   "cell_type": "code",
   "execution_count": null,
   "metadata": {},
   "outputs": [],
   "source": [
    "# tokenizer.save_pretrained(\"tokenizer_module\")\n",
    "# tokenizer.push_to_hub(\"InternalCan/tokenizer_module\")"
   ]
  }
 ],
 "metadata": {
  "kernelspec": {
   "display_name": ".venv",
   "language": "python",
   "name": "python3"
  },
  "language_info": {
   "codemirror_mode": {
    "name": "ipython",
    "version": 3
   },
   "file_extension": ".py",
   "mimetype": "text/x-python",
   "name": "python",
   "nbconvert_exporter": "python",
   "pygments_lexer": "ipython3",
   "version": "3.10.17"
  }
 },
 "nbformat": 4,
 "nbformat_minor": 2
}
